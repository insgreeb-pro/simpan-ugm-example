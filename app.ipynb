{
 "metadata": {
  "language_info": {
   "codemirror_mode": {
    "name": "ipython",
    "version": 3
   },
   "file_extension": ".py",
   "mimetype": "text/x-python",
   "name": "python",
   "nbconvert_exporter": "python",
   "pygments_lexer": "ipython3",
   "version": "3.7.4"
  },
  "orig_nbformat": 2,
  "kernelspec": {
   "name": "python374jvsc74a57bd05204e74ca52e6b4f4dc9c830bc8b9187c9b737ffc8c0d34269272c88bd0b86f0",
   "display_name": "Python 3.7.4 64-bit"
  }
 },
 "nbformat": 4,
 "nbformat_minor": 2,
 "cells": [
  {
   "source": [
    "# WebDav Simpan UGM\n",
    "Upload dan Download file dari simpan.ugm.ac.id menggunakan webdav"
   ],
   "cell_type": "markdown",
   "metadata": {}
  },
  {
   "source": [
    "## Install Dependensi\n",
    "\n",
    "Intall terlebih dahulu semua dependensi dengan cara `python -m pip install -r requirements.txt` sebelum menjalankan program."
   ],
   "cell_type": "markdown",
   "metadata": {}
  },
  {
   "source": [
    "## Konfigurasi"
   ],
   "cell_type": "markdown",
   "metadata": {}
  },
  {
   "cell_type": "code",
   "execution_count": 1,
   "metadata": {},
   "outputs": [],
   "source": [
    "import os\n",
    "\n",
    "from webdav3.client import Client\n",
    "\n",
    "options = {\n",
    " 'webdav_hostname': os.getenv(\"DAV_HOST\", \"https://simpan.ugm.ac.id/remote.php/webdav\"),\n",
    " 'webdav_login'   : os.getenv(\"DAV_USER\", \"your username\"),\n",
    " 'webdav_password': os.getenv(\"DAV_PASSWORD\", \"your password\")\n",
    "}\n",
    "\n",
    "client = Client(options)"
   ]
  },
  {
   "source": [
    "## Upload File"
   ],
   "cell_type": "markdown",
   "metadata": {}
  },
  {
   "cell_type": "code",
   "execution_count": 10,
   "metadata": {},
   "outputs": [
    {
     "output_type": "execute_result",
     "data": {
      "text/plain": [
       "True"
      ]
     },
     "metadata": {},
     "execution_count": 10
    }
   ],
   "source": [
    "remote_dir = \"/example\"\n",
    "remote_path = \"/example/data.txt\"\n",
    "local_path = \"example.txt\"\n",
    "\n",
    "# Membuat directory jika belum tersedia\n",
    "if not client.check(remote_dir) :\n",
    "    client.execute_request('mkdir', remote_dir)\n",
    "\n",
    "# Upload\n",
    "client.upload(\n",
    "    remote_path=remote_path,\n",
    "    local_path=local_path\n",
    ")\n",
    "# Check file di remote\n",
    "client.check(remote_path)"
   ]
  },
  {
   "source": [
    "## Download File"
   ],
   "cell_type": "markdown",
   "metadata": {}
  },
  {
   "cell_type": "code",
   "execution_count": 8,
   "metadata": {},
   "outputs": [
    {
     "output_type": "stream",
     "name": "stdout",
     "text": [
      "Contoh isi text dari example.txt\n"
     ]
    }
   ],
   "source": [
    "out_path = \"out.txt\"\n",
    "# Download jika ada\n",
    "if client.check(remote_path):\n",
    "    client.download(\n",
    "        remote_path=remote_path,\n",
    "        local_path=out_path\n",
    "    )\n",
    "    # Baca hasil download\n",
    "    with open(out_path, 'r') as f:\n",
    "        if f.readable():\n",
    "            print(f.read())"
   ]
  },
  {
   "source": [
    "## Hapus File dan Directory"
   ],
   "cell_type": "markdown",
   "metadata": {}
  },
  {
   "cell_type": "code",
   "execution_count": 11,
   "metadata": {},
   "outputs": [
    {
     "output_type": "stream",
     "name": "stdout",
     "text": [
      "File '/example/data.txt' ada di remote\t: False\n",
      "Directory '/example' ada di remote\t: False\n"
     ]
    }
   ],
   "source": [
    "# Hapus file jika ada\n",
    "if client.check(remote_path):\n",
    "    client.clean(remote_path)\n",
    "    # Check apakah file masih ada\n",
    "    print(\n",
    "        \"File '%s' ada di remote\\t:\" % remote_path,\n",
    "        client.check(remote_path)\n",
    "        )\n",
    "\n",
    "# Hapus directory jika ada\n",
    "if client.check(remote_dir):\n",
    "    client.clean(remote_dir)\n",
    "    # Check apakah directory masih ada\n",
    "    print(\n",
    "        \"Directory '%s' ada di remote\\t:\" % remote_dir,\n",
    "        client.check(remote_dir)\n",
    "        )"
   ]
  },
  {
   "source": [
    "# Hapus file hasil download"
   ],
   "cell_type": "markdown",
   "metadata": {}
  },
  {
   "cell_type": "code",
   "execution_count": 12,
   "metadata": {},
   "outputs": [],
   "source": [
    "# Hapus jika ada\n",
    "if os.path.exists(out_path):\n",
    "    os.unlink(out_path)"
   ]
  }
 ]
}